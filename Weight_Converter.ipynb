{
 "cells": [
  {
   "cell_type": "markdown",
   "id": "cc556f4a",
   "metadata": {},
   "source": [
    "# Weight Converter in Python"
   ]
  },
  {
   "cell_type": "code",
   "execution_count": 2,
   "id": "0cffcaea",
   "metadata": {},
   "outputs": [
    {
     "name": "stdout",
     "output_type": "stream",
     "text": [
      "Weight: 67\n",
      "Lbs or Kgk\n",
      "You are 147.4 pounds\n"
     ]
    }
   ],
   "source": [
    "#take weight as input from user\n",
    "weight = int(input(\"Weight: \"))\n",
    "#Ask the unit of the weight inputed by the user\n",
    "unit = input(\"Lbs or Kg\")\n",
    "#if weight in entered in pounds\n",
    "if unit.upper() == \"L\":\n",
    "    print(f\"You are {weight / 2.2} kilos\")\n",
    "#if weight in entered in Kilos\n",
    "elif unit.upper() == \"K\":\n",
    "    print(f\"You are {weight * 2.2} pounds\")\n",
    "#if unknown unit is entered\n",
    "else:\n",
    "    print(\"Unknown unit\")"
   ]
  }
 ],
 "metadata": {
  "kernelspec": {
   "display_name": "Python 3 (ipykernel)",
   "language": "python",
   "name": "python3"
  },
  "language_info": {
   "codemirror_mode": {
    "name": "ipython",
    "version": 3
   },
   "file_extension": ".py",
   "mimetype": "text/x-python",
   "name": "python",
   "nbconvert_exporter": "python",
   "pygments_lexer": "ipython3",
   "version": "3.7.9"
  }
 },
 "nbformat": 4,
 "nbformat_minor": 5
}
